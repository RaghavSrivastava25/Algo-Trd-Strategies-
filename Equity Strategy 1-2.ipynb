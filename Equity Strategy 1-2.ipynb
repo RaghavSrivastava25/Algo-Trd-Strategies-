{
 "cells": [
  {
   "cell_type": "markdown",
   "id": "4065b658",
   "metadata": {},
   "source": [
    "# Importing the required libraries:"
   ]
  },
  {
   "cell_type": "code",
   "execution_count": 1,
   "id": "ae709bdd",
   "metadata": {},
   "outputs": [],
   "source": [
    "import numpy as np\n",
    "import pandas as pd\n",
    "import matplotlib.pyplot as plt\n",
    "import itertools\n",
    "import random\n",
    "import math"
   ]
  },
  {
   "cell_type": "markdown",
   "id": "2c303132",
   "metadata": {},
   "source": [
    "# Defining a function to execute the strategy"
   ]
  },
  {
   "cell_type": "code",
   "execution_count": 2,
   "id": "008e00f1",
   "metadata": {},
   "outputs": [],
   "source": [
    "def make_trade(df, window_size, z_score_threshold, stop_loss, position_size, portfolio_value, position, PnL):\n",
    "    trades = []\n",
    "    daily_returns = []\n",
    "    z_score_list = []\n",
    "    stop_loss_level = 0\n",
    "    for i in range(window_size, len(df)):\n",
    "        window_data = df[\"Close Price\"][i-window_size:i]\n",
    "        mean = window_data.mean()\n",
    "        std = window_data.std()\n",
    "        z_score = (df[\"Close Price\"][i] - mean) / std\n",
    "        z_score_list.append(z_score)\n",
    "        if abs(z_score) > z_score_threshold:\n",
    "            if z_score > 0:\n",
    "                trade_size = int((portfolio_value * position_size) / df[\"Open Price\"][i])\n",
    "                position += trade_size\n",
    "                PnL -= trade_size * df[\"Open Price\"][i]\n",
    "                trades.append((df[\"Date\"][i], \"Buy\", trade_size, df[\"Open Price\"][i]))\n",
    "                stop_loss_level = df[\"Open Price\"][i] * (1 - stop_loss)\n",
    "            else:\n",
    "                trade_size = int((portfolio_value * position_size) / df[\"Open Price\"][i])\n",
    "                position -= trade_size\n",
    "                PnL += trade_size * df[\"Open Price\"][i]\n",
    "                trades.append((df[\"Date\"][i], \"Sell\", trade_size, df[\"Open Price\"][i]))\n",
    "                stop_loss_level = df[\"Open Price\"][i] * (1 + stop_loss)\n",
    "        elif position > 0 and df[\"Low Price\"][i] < stop_loss_level:\n",
    "            PnL += position * stop_loss_level\n",
    "            trades.append((df[\"Date\"][i], \"Stop Loss\", position, stop_loss_level))\n",
    "            position = 0\n",
    "        else:\n",
    "            pass\n",
    "\n",
    "        PnL += position * (df[\"Close Price\"][i] - df[\"Open Price\"][i])\n",
    "        daily_return = df[\"Close Price\"][i] / df[\"Close Price\"][i-1] - 1\n",
    "        daily_returns.append(daily_return)\n",
    "        \n",
    "    ROI = PnL / portfolio_value\n",
    "    max_drawdown = 1 - df[\"Close Price\"].max() / df[\"Close Price\"].cummax().max()\n",
    "    daily_returns = np.array(daily_returns)\n",
    "    Sharpe_ratio = np.sqrt(252) * daily_returns.mean() / daily_returns.std()\n",
    "    zsa = z_score_list\n",
    "\n",
    "    return PnL, ROI, max_drawdown, daily_returns, (-(Sharpe_ratio)), zsa"
   ]
  },
  {
   "cell_type": "markdown",
   "id": "33c38b4a",
   "metadata": {},
   "source": [
    "# User I/P"
   ]
  },
  {
   "cell_type": "code",
   "execution_count": 3,
   "id": "024190d8",
   "metadata": {},
   "outputs": [],
   "source": [
    "window_size = 10\n",
    "z_score_threshold = 2\n",
    "stop_loss = 0.20\n",
    "position_size = 0.30\n",
    "position = 0\n",
    "PnL = 0"
   ]
  },
  {
   "cell_type": "code",
   "execution_count": 4,
   "id": "142839eb",
   "metadata": {},
   "outputs": [
    {
     "name": "stdout",
     "output_type": "stream",
     "text": [
      "Enter your current portfolio value: 100000\n"
     ]
    }
   ],
   "source": [
    "portfolio_value = float(input(\"Enter your current portfolio value: \"))"
   ]
  },
  {
   "cell_type": "markdown",
   "id": "955fc45d",
   "metadata": {},
   "source": [
    "# Testing the code on Equity data"
   ]
  },
  {
   "cell_type": "code",
   "execution_count": 5,
   "id": "0b8afd55",
   "metadata": {},
   "outputs": [],
   "source": [
    "df1 = pd.read_excel(r\"/Users/raghavsrivastava/Desktop/Equity Data/IDFC LTD (HISTORICAL DATA).xlsx\")"
   ]
  },
  {
   "cell_type": "code",
   "execution_count": 6,
   "id": "6a4ccb1d",
   "metadata": {},
   "outputs": [],
   "source": [
    "df2 = pd.read_excel(r\"/Users/raghavsrivastava/Desktop/Equity Data/IDFCFIRST BANK (HISTORICAL DATA).xlsx\")"
   ]
  },
  {
   "cell_type": "code",
   "execution_count": 7,
   "id": "f6576c29",
   "metadata": {},
   "outputs": [],
   "source": [
    "df3 = pd.read_excel(r\"/Users/raghavsrivastava/Desktop/Equity Data/IRFC HISTORICAL DATA.xlsx\")"
   ]
  },
  {
   "cell_type": "markdown",
   "id": "95c702fd",
   "metadata": {},
   "source": [
    "# O/P"
   ]
  },
  {
   "cell_type": "code",
   "execution_count": 8,
   "id": "471a34d9",
   "metadata": {},
   "outputs": [],
   "source": [
    "PnL_1, ROI_1, max_drawdown_1, daily_returns_1, Sharpe_ratio_1, zsa_1 = make_trade(df1, window_size, z_score_threshold, stop_loss, position_size, portfolio_value, position, PnL)"
   ]
  },
  {
   "cell_type": "code",
   "execution_count": 9,
   "id": "54a78580",
   "metadata": {},
   "outputs": [],
   "source": [
    "PnL_2, ROI_2, max_drawdown_2, daily_returns_2, Sharpe_ratio_2, zsa_2 = make_trade(df2, window_size, z_score_threshold, stop_loss, position_size, portfolio_value, position, PnL)"
   ]
  },
  {
   "cell_type": "code",
   "execution_count": 10,
   "id": "845049a2",
   "metadata": {},
   "outputs": [],
   "source": [
    "PnL_3, ROI_3, max_drawdown_3, daily_returns_3, Sharpe_ratio_3, zsa_3 = make_trade(df3, window_size, z_score_threshold, stop_loss, position_size, portfolio_value, position, PnL)"
   ]
  },
  {
   "cell_type": "code",
   "execution_count": 11,
   "id": "af5efdc8",
   "metadata": {},
   "outputs": [
    {
     "name": "stdout",
     "output_type": "stream",
     "text": [
      "IDFC LTD\n",
      "Final P&L INR: 1,287,869.98 \n",
      "ROI : 1287.87%\n",
      "Sharpe ratio : -0.33 \n"
     ]
    }
   ],
   "source": [
    "print(\"IDFC LTD\")\n",
    "\n",
    "print(\"Final P&L INR: {:,.2f} \".format(PnL_1))\n",
    "print(\"ROI : {:.2f}%\".format(ROI_1 * 100))\n",
    "print(\"Sharpe ratio : {:.2f} \".format(Sharpe_ratio_1))"
   ]
  },
  {
   "cell_type": "code",
   "execution_count": 12,
   "id": "d75af713",
   "metadata": {},
   "outputs": [
    {
     "name": "stdout",
     "output_type": "stream",
     "text": [
      "IDFC FIRST BANK\n",
      "Final P&L INR : 4,125,799.60 \n",
      "ROI : 4125.80%\n",
      "Sharpe ratio : -0.18 \n"
     ]
    }
   ],
   "source": [
    "print(\"IDFC FIRST BANK\")\n",
    "print(\"Final P&L INR : {:,.2f} \".format(PnL_2))\n",
    "print(\"ROI : {:.2f}%\".format(ROI_2 * 100))\n",
    "print(\"Sharpe ratio : {:.2f} \".format(Sharpe_ratio_2))"
   ]
  },
  {
   "cell_type": "code",
   "execution_count": 13,
   "id": "e9563a6c",
   "metadata": {},
   "outputs": [
    {
     "name": "stdout",
     "output_type": "stream",
     "text": [
      "IRFC\n",
      "Final P&L INR : 292,212.58 \n",
      "ROI : 292.21%\n",
      "Sharpe ratio : -0.34 \n"
     ]
    }
   ],
   "source": [
    "print(\"IRFC\")\n",
    "print(\"Final P&L INR : {:,.2f} \".format(PnL_3))\n",
    "print(\"ROI : {:.2f}%\".format(ROI_3 * 100))\n",
    "print(\"Sharpe ratio : {:.2f} \".format(Sharpe_ratio_3))"
   ]
  },
  {
   "cell_type": "code",
   "execution_count": null,
   "id": "f7f9a71b",
   "metadata": {},
   "outputs": [],
   "source": []
  },
  {
   "cell_type": "code",
   "execution_count": null,
   "id": "00242732",
   "metadata": {},
   "outputs": [],
   "source": []
  },
  {
   "cell_type": "code",
   "execution_count": null,
   "id": "e4887af6",
   "metadata": {},
   "outputs": [],
   "source": []
  },
  {
   "cell_type": "code",
   "execution_count": null,
   "id": "34dcc982",
   "metadata": {},
   "outputs": [],
   "source": []
  },
  {
   "cell_type": "code",
   "execution_count": null,
   "id": "100ee584",
   "metadata": {},
   "outputs": [],
   "source": []
  },
  {
   "cell_type": "code",
   "execution_count": null,
   "id": "ac1f5a9d",
   "metadata": {},
   "outputs": [],
   "source": []
  },
  {
   "cell_type": "code",
   "execution_count": null,
   "id": "6aed45b4",
   "metadata": {},
   "outputs": [],
   "source": []
  },
  {
   "cell_type": "code",
   "execution_count": null,
   "id": "a72ef1e2",
   "metadata": {},
   "outputs": [],
   "source": []
  },
  {
   "cell_type": "code",
   "execution_count": null,
   "id": "56516c40",
   "metadata": {},
   "outputs": [],
   "source": []
  }
 ],
 "metadata": {
  "kernelspec": {
   "display_name": "Python 3 (ipykernel)",
   "language": "python",
   "name": "python3"
  },
  "language_info": {
   "codemirror_mode": {
    "name": "ipython",
    "version": 3
   },
   "file_extension": ".py",
   "mimetype": "text/x-python",
   "name": "python",
   "nbconvert_exporter": "python",
   "pygments_lexer": "ipython3",
   "version": "3.9.13"
  }
 },
 "nbformat": 4,
 "nbformat_minor": 5
}
